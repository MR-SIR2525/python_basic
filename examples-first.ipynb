{
 "cells": [
  {
   "cell_type": "code",
   "execution_count": 6,
   "metadata": {},
   "outputs": [
    {
     "name": "stdout",
     "output_type": "stream",
     "text": [
      "45\n"
     ]
    }
   ],
   "source": [
    "hey = 0\n",
    "result = 0\n",
    "\n",
    "while hey < 10:\n",
    "    result = hey + result\n",
    "    hey = hey + 1\n",
    "\n",
    "print(result)"
   ]
  },
  {
   "cell_type": "code",
   "execution_count": 7,
   "metadata": {},
   "outputs": [
    {
     "data": {
      "text/plain": [
       "False"
      ]
     },
     "execution_count": 7,
     "metadata": {},
     "output_type": "execute_result"
    }
   ],
   "source": [
    "\"Mississippi\" in ['MI', 'mississippi']"
   ]
  },
  {
   "cell_type": "code",
   "execution_count": 15,
   "metadata": {},
   "outputs": [
    {
     "name": "stdout",
     "output_type": "stream",
     "text": [
      "{'a': 2}\n"
     ]
    }
   ],
   "source": [
    "message = 'I am XXX, who are you?'\n",
    "\n",
    "count = {}\n",
    "\n",
    "for c in message:\n",
    "    if c == 'a':\n",
    "        count.setdefault(c, 0)\n",
    "        count[c] += 1\n",
    "\n",
    "\n",
    "print(count)"
   ]
  },
  {
   "cell_type": "code",
   "execution_count": 17,
   "metadata": {},
   "outputs": [
    {
     "name": "stdout",
     "output_type": "stream",
     "text": [
      "O| | \n",
      "-----\n",
      " |X| \n",
      "-----\n",
      " | | \n"
     ]
    }
   ],
   "source": [
    "# 19\n",
    "b = {\n",
    "    'top-l': ' ', 'top-m': ' ', 'top-r': ' ',\n",
    "    'mid-l': ' ', 'mid-m': ' ', 'mid-r': ' ',\n",
    "    'low-l': ' ', 'low-m': ' ', 'low-r': ' '\n",
    "}\n",
    "\n",
    "def board_out(b):\n",
    "    print(b['top-l'] + '|' + b['top-m'] + '|' + b['top-r'])\n",
    "    print('-----')\n",
    "    print(b['mid-l'] + '|' + b['mid-m'] + '|' + b['mid-r'])\n",
    "    print('-----')\n",
    "    print(b['low-l'] + '|' + b['low-m'] + '|' + b['low-r'])\n",
    "\n",
    "turn = 'X'\n",
    "move = 'mid-m'\n",
    "b[move] = turn\n",
    "\n",
    "if turn == 'X':\n",
    "    turn = 'O'\n",
    "else:\n",
    "    turn = 'X'\n",
    "\n",
    "move = 'top-l'\n",
    "b[move] = turn\n",
    "\n",
    "board_out(b)"
   ]
  },
  {
   "cell_type": "code",
   "execution_count": 18,
   "metadata": {},
   "outputs": [
    {
     "name": "stdout",
     "output_type": "stream",
     "text": [
      "12345\n",
      "56787\n"
     ]
    }
   ],
   "source": [
    "students = {'n1':'12345', 'n2':'45678'}\n",
    "\n",
    "print(students.setdefault('n1', '56787'))\n",
    "\n",
    "print(students.setdefault('n3', '56787'))"
   ]
  },
  {
   "cell_type": "code",
   "execution_count": 19,
   "metadata": {},
   "outputs": [
    {
     "name": "stdout",
     "output_type": "stream",
     "text": [
      "['Korea', 'Canada']\n"
     ]
    }
   ],
   "source": [
    "c = ['Korea', 'Canada', 'USA']\n",
    "\n",
    "c.remove('USA')\n",
    "\n",
    "print(c)"
   ]
  },
  {
   "cell_type": "code",
   "execution_count": 22,
   "metadata": {},
   "outputs": [
    {
     "name": "stdout",
     "output_type": "stream",
     "text": [
      "[7, 8, 10, 6, 9]\n"
     ]
    }
   ],
   "source": [
    "numbers = [1, 3, 7, 2, 5, 8, 10, 4, 6, 9]\n",
    "result = []\n",
    "\n",
    "for i in range(len((numbers))):\n",
    "    if numbers[i] > 5:\n",
    "        result.append(numbers[i])\n",
    "\n",
    "print(result)"
   ]
  },
  {
   "cell_type": "code",
   "execution_count": 23,
   "metadata": {},
   "outputs": [
    {
     "name": "stdout",
     "output_type": "stream",
     "text": [
      "10\n"
     ]
    }
   ],
   "source": [
    "x = 10\n",
    "\n",
    "def aaa():\n",
    "    global x\n",
    "    x = 20\n",
    "\n",
    "def bbb():\n",
    "    x = 5\n",
    "\n",
    "print(x)"
   ]
  },
  {
   "cell_type": "markdown",
   "metadata": {},
   "source": [
    "**Python examples**\n",
    "\n",
    "### **1. Basic Syntax: Operators, Expressions, Data Types, and Variables**"
   ]
  },
  {
   "cell_type": "code",
   "execution_count": null,
   "metadata": {},
   "outputs": [],
   "source": [
    "# Operators\n",
    "x = 10\n",
    "y = 5\n",
    "print(x + y)  # Addition\n",
    "print(x - y)  # Subtraction\n",
    "print(x * y)  # Multiplication\n",
    "print(x / y)  # Division\n",
    "\n",
    "# Data Types\n",
    "num = 42       # Integer\n",
    "pi = 3.14      # Float\n",
    "text = \"Hello\" # String\n",
    "flag = True    # Boolean\n",
    "\n",
    "print(type(num), type(pi), type(text), type(flag))  # Checking types of the variables"
   ]
  },
  {
   "cell_type": "markdown",
   "metadata": {},
   "source": [
    "### **2. Flow Control: Comparison Operators, If-Else Statements**"
   ]
  },
  {
   "cell_type": "code",
   "execution_count": 5,
   "metadata": {},
   "outputs": [
    {
     "name": "stdout",
     "output_type": "stream",
     "text": [
      "True\n",
      "False\n",
      "True\n",
      "You are old enough to vote in the US.\n"
     ]
    }
   ],
   "source": [
    "# Comparison Operators\n",
    "a = 10\n",
    "b = 20\n",
    "print(a < b)  # True\n",
    "print(a == b) # False\n",
    "print(a != b) # True\n",
    "\n",
    "# If-Else\n",
    "bros_age = 18\n",
    "if bros_age >= 18:\n",
    "    print(\"You are old enough to vote in the US.\")\n",
    "else:\n",
    "    print(\"You are NOT old enough to vote in the US.\")"
   ]
  },
  {
   "cell_type": "code",
   "execution_count": 7,
   "metadata": {},
   "outputs": [
    {
     "name": "stdout",
     "output_type": "stream",
     "text": [
      "Your grade is B\n"
     ]
    }
   ],
   "source": [
    "# If, else if, else\n",
    "grade = 87\n",
    "letter = \"?\"\n",
    "\n",
    "if grade >= 90:\n",
    "    letter = \"A\"\n",
    "elif grade >= 80:\n",
    "    letter = \"B\"\n",
    "elif grade >= 70:\n",
    "    letter = \"C\"\n",
    "elif grade >= 60:\n",
    "    letter = \"D\"\n",
    "else:\n",
    "    letter = \"F\"\n",
    "\n",
    "print(f\"Your grade is {letter}\")"
   ]
  },
  {
   "cell_type": "markdown",
   "metadata": {},
   "source": [
    "### **3. Loops: While, For, Break, Continue**"
   ]
  },
  {
   "cell_type": "code",
   "execution_count": null,
   "metadata": {},
   "outputs": [],
   "source": [
    "# While Loop\n",
    "count = 0\n",
    "while count < 5:\n",
    "    print(count)\n",
    "    count += 1  # Increment\n",
    "\n",
    "# For Loop\n",
    "for i in range(5):\n",
    "    print(i)\n",
    "\n",
    "# Break and Continue\n",
    "for i in range(10):\n",
    "    if i == 5:\n",
    "        break  # Stop the loop when i == 5\n",
    "    if i % 2 == 0:\n",
    "        continue  # Skip even numbers\n",
    "    print(i)"
   ]
  },
  {
   "cell_type": "markdown",
   "metadata": {},
   "source": [
    "### **4. Built-in Functions and Packages: `input()`, `print()`, `def`, `import`, `return`**\n"
   ]
  },
  {
   "cell_type": "code",
   "execution_count": null,
   "metadata": {},
   "outputs": [
    {
     "name": "stdout",
     "output_type": "stream",
     "text": [
      "Hello, andrew\n",
      "16\n",
      "random num between 1 and 10: 7\n",
      "5.0\n"
     ]
    }
   ],
   "source": [
    "# Input and Print\n",
    "name = input(\"Enter your name: \")  # User input\n",
    "print(\"Hello,\", name)  # Print function\n",
    "\n",
    "# Defining Functions\n",
    "def square(num):\n",
    "    return num * num\n",
    "\n",
    "print(square(4))  # Function call\n",
    "\n",
    "\n",
    "# Importing Packages\n",
    "import random\n",
    "print(f'random num between 1 and 10: {random.randint(1, 10)}')\n",
    "\n",
    "import math\n",
    "print(math.sqrt(25))  # Using the sqrt function from math module"
   ]
  },
  {
   "cell_type": "markdown",
   "metadata": {},
   "source": [
    "### **5. Call Stack: Local and Global Scope**"
   ]
  },
  {
   "cell_type": "code",
   "execution_count": null,
   "metadata": {},
   "outputs": [],
   "source": [
    "# Global vs Local Scope\n",
    "global_var = \"I am global\"\n",
    "\n",
    "def example():\n",
    "    local_var = \"I am local\"\n",
    "    print(local_var)  # Accessible inside the function\n",
    "    print(global_var) # Accessible anywhere\n",
    "\n",
    "example()\n",
    "# print(local_var)  # This would cause an error (uncomment to see)"
   ]
  },
  {
   "cell_type": "markdown",
   "metadata": {},
   "source": [
    "### **6. Lists: Indexing, Sorting, Augmented Assignment Operators**"
   ]
  },
  {
   "cell_type": "code",
   "execution_count": 9,
   "metadata": {},
   "outputs": [
    {
     "name": "stdout",
     "output_type": "stream",
     "text": [
      "banana\n",
      "15\n",
      "45\n",
      "[1, 2, 4, 8]\n"
     ]
    }
   ],
   "source": [
    "# Lists and Indexes\n",
    "fruits = [\"apple\", \"banana\", \"cherry\"]\n",
    "print(fruits[1])  # Accessing element by index\n",
    "\n",
    "# Augmented Assignments\n",
    "num = 10\n",
    "num += 5  # Equivalent to num = num + 5\n",
    "print(num)\n",
    "\n",
    "num *= 3  # Equivalent to num = num * 2\n",
    "print(num)\n",
    "\n",
    "\n",
    "# Sorting\n",
    "numbers = [4, 2, 8, 1]\n",
    "numbers.sort()\n",
    "print(numbers)  # [1, 2, 4, 8]"
   ]
  },
  {
   "cell_type": "markdown",
   "metadata": {},
   "source": [
    "### **7. Dictionaries: Key-Value Storage**\n"
   ]
  },
  {
   "cell_type": "code",
   "execution_count": 9,
   "metadata": {},
   "outputs": [
    {
     "name": "stdout",
     "output_type": "stream",
     "text": [
      "John\n",
      "{'name': 'John', 'age': 21, 'major': 'CS'}\n",
      "'major' exists!\n",
      "name: John\n",
      "age: 21\n",
      "major: CS\n"
     ]
    }
   ],
   "source": [
    "# Dictionary Example\n",
    "student = {\n",
    "    \"name\": \"John\",\n",
    "    \"age\": 20,\n",
    "    \"major\": \"CS\"\n",
    "}\n",
    "# same, but easier to read than...   student = {\"name\": \"John\", \"age\": 20, \"major\": \"CS\"}\n",
    "\n",
    "print(student[\"name\"])  # Access value by key\n",
    "student[\"age\"] = 21  # Modify value\n",
    "print(student)  # prints the whole updated dictionary\n",
    "\n",
    "# Checking if a Key Exists\n",
    "if \"major\" in student:\n",
    "    print(\"'major' exists!\")\n",
    "else:\n",
    "    print(\"'major' does not exist!\")\n",
    "\n",
    "# Iterating Over a Dictionary\n",
    "for key, value in student.items():\n",
    "    print(f\"{key}: {value}\")"
   ]
  },
  {
   "cell_type": "code",
   "execution_count": 10,
   "metadata": {},
   "outputs": [
    {
     "data": {
      "text/plain": [
       "dict_keys(['name', 'age', 'major'])"
      ]
     },
     "execution_count": 10,
     "metadata": {},
     "output_type": "execute_result"
    }
   ],
   "source": [
    "student.keys()"
   ]
  }
 ],
 "metadata": {
  "kernelspec": {
   "display_name": "Python 3",
   "language": "python",
   "name": "python3"
  },
  "language_info": {
   "codemirror_mode": {
    "name": "ipython",
    "version": 3
   },
   "file_extension": ".py",
   "mimetype": "text/x-python",
   "name": "python",
   "nbconvert_exporter": "python",
   "pygments_lexer": "ipython3",
   "version": "3.12.1"
  }
 },
 "nbformat": 4,
 "nbformat_minor": 2
}

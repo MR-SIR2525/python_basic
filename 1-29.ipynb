{
 "cells": [
  {
   "cell_type": "markdown",
   "metadata": {},
   "source": [
    "# Jan 29\n",
    "Loops"
   ]
  },
  {
   "cell_type": "code",
   "execution_count": null,
   "metadata": {},
   "outputs": [],
   "source": [
    "print(\"Pre while loop\\n\")\n",
    "\n",
    "while True:\n",
    "    print(\"who are you?\")\n",
    "    name = input()\n",
    "    if name != \"Joe\":\n",
    "        continue #go back to the top of the loop\n",
    "    print(\"Hello, Joe. What is the password? (It is a fish.)\")\n",
    "    password = input()\n",
    "    if password == \"swordfish\":\n",
    "        break\n",
    "    else:\n",
    "        print(\"Incorrect password.\")\n",
    "\n",
    "print(\"Access granted.\")"
   ]
  },
  {
   "cell_type": "code",
   "execution_count": null,
   "metadata": {},
   "outputs": [],
   "source": [
    "for i in range(10):\n",
    "    if i == 5:\n",
    "        break\n",
    "    print(i)\n"
   ]
  },
  {
   "cell_type": "code",
   "execution_count": null,
   "metadata": {},
   "outputs": [],
   "source": [
    "# The loop doesn't print 16 because the range() function generates numbers up to\n",
    "# but not including the stop value (16 in this case).\n",
    "for i in range(12, 16):\n",
    "    print(i)"
   ]
  },
  {
   "cell_type": "code",
   "execution_count": null,
   "metadata": {},
   "outputs": [],
   "source": [
    "names = [\"John\", \"Bob\", \"Mosh\", \"Sarah\", \"Mary\"]\n",
    "for name in names:\n",
    "    print(name)"
   ]
  },
  {
   "cell_type": "code",
   "execution_count": null,
   "metadata": {},
   "outputs": [],
   "source": [
    "step = -2\n",
    "for i in range(20, 10, step):\n",
    "    print(i)"
   ]
  },
  {
   "cell_type": "code",
   "execution_count": null,
   "metadata": {},
   "outputs": [],
   "source": [
    "import pandas as pd\n",
    "df = pd.read_csv(\"people.csv\")\n",
    "df\n",
    "\n",
    "for index, row in df.iterrows():\n",
    "    print(row[\"name\"])"
   ]
  },
  {
   "cell_type": "markdown",
   "metadata": {},
   "source": [
    "## Class practice thing"
   ]
  },
  {
   "cell_type": "code",
   "execution_count": 5,
   "metadata": {},
   "outputs": [],
   "source": [
    "import random"
   ]
  },
  {
   "cell_type": "code",
   "execution_count": 3,
   "metadata": {},
   "outputs": [
    {
     "name": "stdout",
     "output_type": "stream",
     "text": [
      "I'm thinking of a number between 1 and 40.\n",
      "Your guess is too low.\n",
      "Your guess is too high.\n",
      "Your guess is too high.\n",
      "Your guess is too low.\n",
      "Sorry, you didn't guess my number. It was 14.\n"
     ]
    }
   ],
   "source": [
    "a, b = 1, 40\n",
    "num = random.randint(a, b)\n",
    "allowed_guesses = 4\n",
    "\n",
    "print(\"I'm thinking of a number between \" + str(a) + \" and \" + str(b) + \".\")\n",
    "\n",
    "for count in range(allowed_guesses):\n",
    "    guess = int(input(\"Take a guess: \"))\n",
    "\n",
    "    if guess == num:\n",
    "        print(\"Good job, you guessed my number in \" + str(count) + \" guesses!\")\n",
    "        break\n",
    "    elif guess < num:\n",
    "        print(\"Your guess is too low.\")\n",
    "    elif guess > num:\n",
    "        print(\"Your guess is too high.\")\n",
    "    else:\n",
    "        break\n",
    "        \n",
    "else:\n",
    "    print(\"Sorry, you didn't guess my number. It was \" + str(num) + \".\")\n",
    "\n"
   ]
  }
 ],
 "metadata": {
  "kernelspec": {
   "display_name": "Python 3",
   "language": "python",
   "name": "python3"
  },
  "language_info": {
   "codemirror_mode": {
    "name": "ipython",
    "version": 3
   },
   "file_extension": ".py",
   "mimetype": "text/x-python",
   "name": "python",
   "nbconvert_exporter": "python",
   "pygments_lexer": "ipython3",
   "version": "3.12.1"
  }
 },
 "nbformat": 4,
 "nbformat_minor": 2
}

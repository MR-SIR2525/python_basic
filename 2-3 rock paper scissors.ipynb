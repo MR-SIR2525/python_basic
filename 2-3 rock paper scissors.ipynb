{
 "cells": [
  {
   "cell_type": "markdown",
   "metadata": {},
   "source": [
    "# Feb 3 in class"
   ]
  },
  {
   "cell_type": "code",
   "execution_count": 6,
   "metadata": {},
   "outputs": [],
   "source": [
    "import random\n",
    "import sys"
   ]
  },
  {
   "cell_type": "code",
   "execution_count": 13,
   "metadata": {},
   "outputs": [
    {
     "name": "stdout",
     "output_type": "stream",
     "text": [
      "ROCK, PAPER, SCISSORS game\n",
      "0 Wins, 0 Losses, 0 Ties\n",
      "You chose r\n",
      "ROCK versus ROCK\n",
      "It's a tie!\n",
      "\n",
      "0 Wins, 0 Losses, 1 Ties\n",
      "You chose s\n",
      "SCISSORS versus SCISSORS\n",
      "It's a tie!\n",
      "\n",
      "0 Wins, 0 Losses, 2 Ties\n",
      "You chose s\n",
      "SCISSORS versus ROCK\n",
      "You lose!\n",
      "\n",
      "0 Wins, 1 Losses, 2 Ties\n",
      "You chose s\n",
      "SCISSORS versus ROCK\n",
      "You lose!\n",
      "\n",
      "0 Wins, 2 Losses, 2 Ties\n",
      "You chose s\n",
      "SCISSORS versus PAPER\n",
      "You win!\n",
      "\n",
      "1 Wins, 2 Losses, 2 Ties\n",
      "You chose q\n"
     ]
    }
   ],
   "source": [
    "print(\"ROCK, PAPER, SCISSORS game\")\n",
    "wins = 0\n",
    "losses = 0\n",
    "ties = 0\n",
    "\n",
    "while True:\n",
    "    print(f'{wins} Wins, {losses} Losses, {ties} Ties')\n",
    "    player_move = input(\"Enter your move: (r)ock (p)aper (s)cissors or (q)uit\")\n",
    "    sys.stdout.flush()\n",
    "\n",
    "    print(\"You chose \" + player_move)\n",
    "    if player_move == \"q\":\n",
    "        break\n",
    "    if player_move == \"r\":\n",
    "        print(\"ROCK versus \", end=\"\")\n",
    "    elif player_move == \"p\":\n",
    "        print(\"PAPER versus \", end=\"\")\n",
    "    elif player_move == \"s\":\n",
    "        print(\"SCISSORS versus \", end=\"\")\n",
    "    else:\n",
    "        print(f'{player_move} is not a valid move. Try again.')\n",
    "        continue\n",
    "\n",
    "    # Computer move\n",
    "    rnum = random.randint(1, 3)\n",
    "    if rnum == 1:\n",
    "        computer_move = \"r\"\n",
    "        print(\"ROCK\")\n",
    "    elif rnum == 2:\n",
    "        computer_move = \"p\"\n",
    "        print(\"PAPER\")\n",
    "    elif rnum == 3:\n",
    "        computer_move = \"s\"\n",
    "        print(\"SCISSORS\")\n",
    "\n",
    "    # Compare moves\n",
    "    # Tie\n",
    "    if player_move == computer_move:\n",
    "        print(\"It's a tie!\")\n",
    "        ties += 1\n",
    "\n",
    "    # Player wins\n",
    "    elif player_move == \"r\" and computer_move == \"s\" or \\\n",
    "         player_move == \"p\" and computer_move == \"r\" or \\\n",
    "         player_move == \"s\" and computer_move == \"p\":\n",
    "        print(\"You win!\")\n",
    "        wins += 1\n",
    "    \n",
    "    # Computer wins\n",
    "    else:\n",
    "        print(\"You lose!\")\n",
    "        losses += 1\n",
    "\n",
    "    print()\n",
    "    sys.stdout.flush() "
   ]
  }
 ],
 "metadata": {
  "kernelspec": {
   "display_name": "Python 3",
   "language": "python",
   "name": "python3"
  },
  "language_info": {
   "codemirror_mode": {
    "name": "ipython",
    "version": 3
   },
   "file_extension": ".py",
   "mimetype": "text/x-python",
   "name": "python",
   "nbconvert_exporter": "python",
   "pygments_lexer": "ipython3",
   "version": "3.12.1"
  }
 },
 "nbformat": 4,
 "nbformat_minor": 2
}

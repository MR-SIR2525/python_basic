{
 "cells": [
  {
   "cell_type": "markdown",
   "metadata": {},
   "source": [
    "# Feb 10 class"
   ]
  },
  {
   "cell_type": "code",
   "execution_count": 3,
   "metadata": {},
   "outputs": [
    {
     "name": "stdout",
     "output_type": "stream",
     "text": [
      "andrew got 90\n"
     ]
    }
   ],
   "source": [
    "grades = [['andrew', 'lydia', 'luke'], [90, 80, 85]]\n",
    "\n",
    "print(f\"{grades[0][0]} got {grades[1][0]}\")"
   ]
  },
  {
   "cell_type": "code",
   "execution_count": 14,
   "metadata": {},
   "outputs": [
    {
     "name": "stdout",
     "output_type": "stream",
     "text": [
      "['bat', 'rat', 'elephant']\n"
     ]
    }
   ],
   "source": [
    "animals = ['cat', 'bat', 'rat', 'elephant', 'giraffe']\n",
    "\n",
    "print(animals[1:4])"
   ]
  },
  {
   "cell_type": "code",
   "execution_count": 18,
   "metadata": {},
   "outputs": [
    {
     "name": "stdout",
     "output_type": "stream",
     "text": [
      "cat is in the list\n"
     ]
    }
   ],
   "source": [
    "animal = input('Enter an animal: ')\n",
    "\n",
    "if animal in animals:\n",
    "    print(f'{animal} is in the list')\n",
    "else:\n",
    "    print(f'{animal} is not in the list')"
   ]
  },
  {
   "cell_type": "code",
   "execution_count": null,
   "metadata": {},
   "outputs": [
    {
     "name": "stdout",
     "output_type": "stream",
     "text": [
      "Index 0 in supplies is: pens\n",
      "Index 1 in supplies is: staplers\n",
      "Index 2 in supplies is: flame-throwers\n",
      "Index 3 in supplies is: binders\n"
     ]
    }
   ],
   "source": [
    "supplies = ['pens', 'staplers', 'flame-throwers', 'binders']\n",
    "for index, item in enumerate(supplies):\n",
    "    print(f'Index {index} in supplies is: {item}')\n"
   ]
  },
  {
   "cell_type": "markdown",
   "metadata": {},
   "source": [
    "Still using animals list..."
   ]
  },
  {
   "cell_type": "code",
   "execution_count": null,
   "metadata": {},
   "outputs": [
    {
     "name": "stdout",
     "output_type": "stream",
     "text": [
      "Index 0 in animals is: cat\n",
      "Index 1 in animals is: bat\n",
      "Index 2 in animals is: rat\n",
      "Index 3 in animals is: elephant\n",
      "Index 4 in animals is: giraffe\n"
     ]
    }
   ],
   "source": [
    "for i in range(len(animals)):\n",
    "    print(f'Index {i} in animals is: {animals[i]}')"
   ]
  },
  {
   "cell_type": "code",
   "execution_count": 21,
   "metadata": {},
   "outputs": [
    {
     "name": "stdout",
     "output_type": "stream",
     "text": [
      "Index 0 in animals is: cat\n",
      "Index 1 in animals is: bat\n",
      "Index 2 in animals is: rat\n",
      "Index 3 in animals is: elephant\n",
      "Index 4 in animals is: giraffe\n"
     ]
    }
   ],
   "source": [
    "for i, item in enumerate(animals):\n",
    "    print(f'Index {i} in animals is: {item}')"
   ]
  },
  {
   "cell_type": "code",
   "execution_count": 23,
   "metadata": {},
   "outputs": [
    {
     "name": "stdout",
     "output_type": "stream",
     "text": [
      "cat\n",
      "bat\n",
      "rat\n",
      "elephant\n",
      "giraffe\n"
     ]
    }
   ],
   "source": [
    "# don't need to remember for exam\n",
    "for item in animals:\n",
    "    print(item)\n",
    "    "
   ]
  },
  {
   "cell_type": "code",
   "execution_count": 25,
   "metadata": {},
   "outputs": [],
   "source": [
    "import random"
   ]
  },
  {
   "cell_type": "code",
   "execution_count": 50,
   "metadata": {},
   "outputs": [
    {
     "name": "stdout",
     "output_type": "stream",
     "text": [
      "['giraffe', 'rat', 'cat', 'elephant', 'bat']\n"
     ]
    }
   ],
   "source": [
    "# shuffle the list\n",
    "random.shuffle(animals)\n",
    "print(animals)"
   ]
  },
  {
   "cell_type": "code",
   "execution_count": 40,
   "metadata": {},
   "outputs": [
    {
     "name": "stdout",
     "output_type": "stream",
     "text": [
      "cat\n",
      "elephant\n",
      "bat\n",
      "bat\n",
      "cat\n"
     ]
    }
   ],
   "source": [
    "for i in range(5):\n",
    "    print(random.choice(animals))"
   ]
  },
  {
   "cell_type": "code",
   "execution_count": 55,
   "metadata": {},
   "outputs": [
    {
     "name": "stdout",
     "output_type": "stream",
     "text": [
      "5050\n"
     ]
    }
   ],
   "source": [
    "sumvalue = []\n",
    "\n",
    "for i in range(1, 101):\n",
    "    sumvalue.append(i)\n",
    "\n",
    "print(sum(sumvalue))\n"
   ]
  },
  {
   "cell_type": "markdown",
   "metadata": {},
   "source": [
    "1 + 2 + 3......99 + 100\n",
    "\n",
    "    101\n",
    "    101\n",
    "   x 50\n",
    "\n",
    "5050"
   ]
  }
 ],
 "metadata": {
  "kernelspec": {
   "display_name": "Python 3",
   "language": "python",
   "name": "python3"
  },
  "language_info": {
   "codemirror_mode": {
    "name": "ipython",
    "version": 3
   },
   "file_extension": ".py",
   "mimetype": "text/x-python",
   "name": "python",
   "nbconvert_exporter": "python",
   "pygments_lexer": "ipython3",
   "version": "3.12.1"
  }
 },
 "nbformat": 4,
 "nbformat_minor": 2
}

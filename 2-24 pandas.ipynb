{
 "cells": [
  {
   "cell_type": "code",
   "execution_count": 1,
   "metadata": {},
   "outputs": [],
   "source": [
    "import pandas as pd"
   ]
  },
  {
   "cell_type": "code",
   "execution_count": 5,
   "metadata": {},
   "outputs": [
    {
     "data": {
      "text/html": [
       "<div>\n",
       "<style scoped>\n",
       "    .dataframe tbody tr th:only-of-type {\n",
       "        vertical-align: middle;\n",
       "    }\n",
       "\n",
       "    .dataframe tbody tr th {\n",
       "        vertical-align: top;\n",
       "    }\n",
       "\n",
       "    .dataframe thead th {\n",
       "        text-align: right;\n",
       "    }\n",
       "</style>\n",
       "<table border=\"1\" class=\"dataframe\">\n",
       "  <thead>\n",
       "    <tr style=\"text-align: right;\">\n",
       "      <th></th>\n",
       "      <th>product_price</th>\n",
       "      <th>discount</th>\n",
       "      <th>viewer</th>\n",
       "      <th>likes</th>\n",
       "      <th>sales</th>\n",
       "    </tr>\n",
       "  </thead>\n",
       "  <tbody>\n",
       "    <tr>\n",
       "      <th>0</th>\n",
       "      <td>11700</td>\n",
       "      <td>0.29</td>\n",
       "      <td>650000</td>\n",
       "      <td>180000</td>\n",
       "      <td>11700</td>\n",
       "    </tr>\n",
       "    <tr>\n",
       "      <th>1</th>\n",
       "      <td>17400</td>\n",
       "      <td>0.44</td>\n",
       "      <td>650000</td>\n",
       "      <td>180000</td>\n",
       "      <td>87000</td>\n",
       "    </tr>\n",
       "    <tr>\n",
       "      <th>2</th>\n",
       "      <td>14000</td>\n",
       "      <td>0.47</td>\n",
       "      <td>650000</td>\n",
       "      <td>180000</td>\n",
       "      <td>8540000</td>\n",
       "    </tr>\n",
       "    <tr>\n",
       "      <th>3</th>\n",
       "      <td>29100</td>\n",
       "      <td>0.29</td>\n",
       "      <td>410000</td>\n",
       "      <td>18000</td>\n",
       "      <td>5063400</td>\n",
       "    </tr>\n",
       "    <tr>\n",
       "      <th>4</th>\n",
       "      <td>32000</td>\n",
       "      <td>NaN</td>\n",
       "      <td>350000</td>\n",
       "      <td>15000</td>\n",
       "      <td>1024000</td>\n",
       "    </tr>\n",
       "    <tr>\n",
       "      <th>...</th>\n",
       "      <td>...</td>\n",
       "      <td>...</td>\n",
       "      <td>...</td>\n",
       "      <td>...</td>\n",
       "      <td>...</td>\n",
       "    </tr>\n",
       "    <tr>\n",
       "      <th>2898</th>\n",
       "      <td>1590</td>\n",
       "      <td>0.27</td>\n",
       "      <td>1271</td>\n",
       "      <td>4509</td>\n",
       "      <td>19080</td>\n",
       "    </tr>\n",
       "    <tr>\n",
       "      <th>2899</th>\n",
       "      <td>1390</td>\n",
       "      <td>0.26</td>\n",
       "      <td>1271</td>\n",
       "      <td>4509</td>\n",
       "      <td>31970</td>\n",
       "    </tr>\n",
       "    <tr>\n",
       "      <th>2900</th>\n",
       "      <td>1390</td>\n",
       "      <td>0.26</td>\n",
       "      <td>1271</td>\n",
       "      <td>4509</td>\n",
       "      <td>111200</td>\n",
       "    </tr>\n",
       "    <tr>\n",
       "      <th>2901</th>\n",
       "      <td>990</td>\n",
       "      <td>0.34</td>\n",
       "      <td>1271</td>\n",
       "      <td>4509</td>\n",
       "      <td>124740</td>\n",
       "    </tr>\n",
       "    <tr>\n",
       "      <th>2902</th>\n",
       "      <td>65000</td>\n",
       "      <td>NaN</td>\n",
       "      <td>1141</td>\n",
       "      <td>4155</td>\n",
       "      <td>195000</td>\n",
       "    </tr>\n",
       "  </tbody>\n",
       "</table>\n",
       "<p>2903 rows × 5 columns</p>\n",
       "</div>"
      ],
      "text/plain": [
       "      product_price  discount  viewer   likes    sales\n",
       "0             11700      0.29  650000  180000    11700\n",
       "1             17400      0.44  650000  180000    87000\n",
       "2             14000      0.47  650000  180000  8540000\n",
       "3             29100      0.29  410000   18000  5063400\n",
       "4             32000       NaN  350000   15000  1024000\n",
       "...             ...       ...     ...     ...      ...\n",
       "2898           1590      0.27    1271    4509    19080\n",
       "2899           1390      0.26    1271    4509    31970\n",
       "2900           1390      0.26    1271    4509   111200\n",
       "2901            990      0.34    1271    4509   124740\n",
       "2902          65000       NaN    1141    4155   195000\n",
       "\n",
       "[2903 rows x 5 columns]"
      ]
     },
     "execution_count": 5,
     "metadata": {},
     "output_type": "execute_result"
    }
   ],
   "source": [
    "data = pd.read_excel(r'datasets/commerce_data.xlsx')\n",
    "data"
   ]
  },
  {
   "cell_type": "code",
   "execution_count": 6,
   "metadata": {},
   "outputs": [
    {
     "data": {
      "text/plain": [
       "(2903, 5)"
      ]
     },
     "execution_count": 6,
     "metadata": {},
     "output_type": "execute_result"
    }
   ],
   "source": [
    "data.shape"
   ]
  },
  {
   "cell_type": "code",
   "execution_count": 7,
   "metadata": {},
   "outputs": [
    {
     "data": {
      "text/plain": [
       "<Axes: xlabel='product_price', ylabel='sales'>"
      ]
     },
     "execution_count": 7,
     "metadata": {},
     "output_type": "execute_result"
    },
    {
     "data": {
      "image/png": "[encoded data removed]",
      "text/plain": [
       "<Figure size 640x480 with 1 Axes>"
      ]
     },
     "metadata": {},
     "output_type": "display_data"
    }
   ],
   "source": [
    "import seaborn as sn\n",
    "import matplotlib.pyplot as plt\n",
    "\n",
    "sn.scatterplot(data=data, x='product_price', y='sales')\n"
   ]
  },
  {
   "cell_type": "code",
   "execution_count": 8,
   "metadata": {},
   "outputs": [],
   "source": [
    "# replace NaN with 0\n",
    "data['discount'] = data['discount'].fillna(0)"
   ]
  },
  {
   "cell_type": "code",
   "execution_count": 9,
   "metadata": {},
   "outputs": [
    {
     "data": {
      "text/plain": [
       "count    2903.000000\n",
       "mean        0.285625\n",
       "std         0.230007\n",
       "min         0.000000\n",
       "25%         0.100000\n",
       "50%         0.260000\n",
       "75%         0.420000\n",
       "max         0.960000\n",
       "Name: discount, dtype: float64"
      ]
     },
     "execution_count": 9,
     "metadata": {},
     "output_type": "execute_result"
    }
   ],
   "source": [
    "# find range of discounts\n",
    "data['discount'].describe()"
   ]
  },
  {
   "cell_type": "code",
   "execution_count": 10,
   "metadata": {},
   "outputs": [],
   "source": [
    "discount_category = []\n",
    "\n",
    "for n in data['discount']:\n",
    "    if n < 0.5:\n",
    "        discount_category.append('low')\n",
    "    else:\n",
    "        discount_category.append('high')\n",
    "\n",
    "data['discount_category'] = discount_category"
   ]
  },
  {
   "cell_type": "code",
   "execution_count": 11,
   "metadata": {},
   "outputs": [
    {
     "data": {
      "text/html": [
       "<div>\n",
       "<style scoped>\n",
       "    .dataframe tbody tr th:only-of-type {\n",
       "        vertical-align: middle;\n",
       "    }\n",
       "\n",
       "    .dataframe tbody tr th {\n",
       "        vertical-align: top;\n",
       "    }\n",
       "\n",
       "    .dataframe thead th {\n",
       "        text-align: right;\n",
       "    }\n",
       "</style>\n",
       "<table border=\"1\" class=\"dataframe\">\n",
       "  <thead>\n",
       "    <tr style=\"text-align: right;\">\n",
       "      <th></th>\n",
       "      <th>product_price</th>\n",
       "      <th>discount</th>\n",
       "      <th>viewer</th>\n",
       "      <th>likes</th>\n",
       "      <th>sales</th>\n",
       "      <th>discount_category</th>\n",
       "    </tr>\n",
       "  </thead>\n",
       "  <tbody>\n",
       "    <tr>\n",
       "      <th>0</th>\n",
       "      <td>11700</td>\n",
       "      <td>0.29</td>\n",
       "      <td>650000</td>\n",
       "      <td>180000</td>\n",
       "      <td>11700</td>\n",
       "      <td>low</td>\n",
       "    </tr>\n",
       "    <tr>\n",
       "      <th>1</th>\n",
       "      <td>17400</td>\n",
       "      <td>0.44</td>\n",
       "      <td>650000</td>\n",
       "      <td>180000</td>\n",
       "      <td>87000</td>\n",
       "      <td>low</td>\n",
       "    </tr>\n",
       "    <tr>\n",
       "      <th>2</th>\n",
       "      <td>14000</td>\n",
       "      <td>0.47</td>\n",
       "      <td>650000</td>\n",
       "      <td>180000</td>\n",
       "      <td>8540000</td>\n",
       "      <td>low</td>\n",
       "    </tr>\n",
       "    <tr>\n",
       "      <th>3</th>\n",
       "      <td>29100</td>\n",
       "      <td>0.29</td>\n",
       "      <td>410000</td>\n",
       "      <td>18000</td>\n",
       "      <td>5063400</td>\n",
       "      <td>low</td>\n",
       "    </tr>\n",
       "    <tr>\n",
       "      <th>4</th>\n",
       "      <td>32000</td>\n",
       "      <td>0.00</td>\n",
       "      <td>350000</td>\n",
       "      <td>15000</td>\n",
       "      <td>1024000</td>\n",
       "      <td>low</td>\n",
       "    </tr>\n",
       "    <tr>\n",
       "      <th>...</th>\n",
       "      <td>...</td>\n",
       "      <td>...</td>\n",
       "      <td>...</td>\n",
       "      <td>...</td>\n",
       "      <td>...</td>\n",
       "      <td>...</td>\n",
       "    </tr>\n",
       "    <tr>\n",
       "      <th>2898</th>\n",
       "      <td>1590</td>\n",
       "      <td>0.27</td>\n",
       "      <td>1271</td>\n",
       "      <td>4509</td>\n",
       "      <td>19080</td>\n",
       "      <td>low</td>\n",
       "    </tr>\n",
       "    <tr>\n",
       "      <th>2899</th>\n",
       "      <td>1390</td>\n",
       "      <td>0.26</td>\n",
       "      <td>1271</td>\n",
       "      <td>4509</td>\n",
       "      <td>31970</td>\n",
       "      <td>low</td>\n",
       "    </tr>\n",
       "    <tr>\n",
       "      <th>2900</th>\n",
       "      <td>1390</td>\n",
       "      <td>0.26</td>\n",
       "      <td>1271</td>\n",
       "      <td>4509</td>\n",
       "      <td>111200</td>\n",
       "      <td>low</td>\n",
       "    </tr>\n",
       "    <tr>\n",
       "      <th>2901</th>\n",
       "      <td>990</td>\n",
       "      <td>0.34</td>\n",
       "      <td>1271</td>\n",
       "      <td>4509</td>\n",
       "      <td>124740</td>\n",
       "      <td>low</td>\n",
       "    </tr>\n",
       "    <tr>\n",
       "      <th>2902</th>\n",
       "      <td>65000</td>\n",
       "      <td>0.00</td>\n",
       "      <td>1141</td>\n",
       "      <td>4155</td>\n",
       "      <td>195000</td>\n",
       "      <td>low</td>\n",
       "    </tr>\n",
       "  </tbody>\n",
       "</table>\n",
       "<p>2903 rows × 6 columns</p>\n",
       "</div>"
      ],
      "text/plain": [
       "      product_price  discount  viewer   likes    sales discount_category\n",
       "0             11700      0.29  650000  180000    11700               low\n",
       "1             17400      0.44  650000  180000    87000               low\n",
       "2             14000      0.47  650000  180000  8540000               low\n",
       "3             29100      0.29  410000   18000  5063400               low\n",
       "4             32000      0.00  350000   15000  1024000               low\n",
       "...             ...       ...     ...     ...      ...               ...\n",
       "2898           1590      0.27    1271    4509    19080               low\n",
       "2899           1390      0.26    1271    4509    31970               low\n",
       "2900           1390      0.26    1271    4509   111200               low\n",
       "2901            990      0.34    1271    4509   124740               low\n",
       "2902          65000      0.00    1141    4155   195000               low\n",
       "\n",
       "[2903 rows x 6 columns]"
      ]
     },
     "execution_count": 11,
     "metadata": {},
     "output_type": "execute_result"
    }
   ],
   "source": [
    "data"
   ]
  },
  {
   "cell_type": "markdown",
   "metadata": {},
   "source": [
    "# Wednesday 2/26 and (some) Monday 3/3 class stuff"
   ]
  },
  {
   "cell_type": "code",
   "execution_count": 12,
   "metadata": {},
   "outputs": [],
   "source": [
    "sales_category = []\n",
    "\n",
    "for i in range(len(data)):\n",
    "    if data['sales'][i] > 1000000:\n",
    "        sales_category.append('good')\n",
    "    else:\n",
    "        sales_category.append('bad')\n",
    "\n",
    "data['sales_category'] = sales_category"
   ]
  },
  {
   "cell_type": "code",
   "execution_count": 16,
   "metadata": {},
   "outputs": [
    {
     "data": {
      "text/html": [
       "<div>\n",
       "<style scoped>\n",
       "    .dataframe tbody tr th:only-of-type {\n",
       "        vertical-align: middle;\n",
       "    }\n",
       "\n",
       "    .dataframe tbody tr th {\n",
       "        vertical-align: top;\n",
       "    }\n",
       "\n",
       "    .dataframe thead th {\n",
       "        text-align: right;\n",
       "    }\n",
       "</style>\n",
       "<table border=\"1\" class=\"dataframe\">\n",
       "  <thead>\n",
       "    <tr style=\"text-align: right;\">\n",
       "      <th></th>\n",
       "      <th>product_price</th>\n",
       "      <th>discount</th>\n",
       "      <th>viewer</th>\n",
       "      <th>likes</th>\n",
       "      <th>sales</th>\n",
       "      <th>discount_category</th>\n",
       "      <th>sales_category</th>\n",
       "    </tr>\n",
       "  </thead>\n",
       "  <tbody>\n",
       "    <tr>\n",
       "      <th>0</th>\n",
       "      <td>11700</td>\n",
       "      <td>0.29</td>\n",
       "      <td>650000</td>\n",
       "      <td>180000</td>\n",
       "      <td>11700</td>\n",
       "      <td>low</td>\n",
       "      <td>bad</td>\n",
       "    </tr>\n",
       "    <tr>\n",
       "      <th>1</th>\n",
       "      <td>17400</td>\n",
       "      <td>0.44</td>\n",
       "      <td>650000</td>\n",
       "      <td>180000</td>\n",
       "      <td>87000</td>\n",
       "      <td>low</td>\n",
       "      <td>bad</td>\n",
       "    </tr>\n",
       "    <tr>\n",
       "      <th>2</th>\n",
       "      <td>14000</td>\n",
       "      <td>0.47</td>\n",
       "      <td>650000</td>\n",
       "      <td>180000</td>\n",
       "      <td>8540000</td>\n",
       "      <td>low</td>\n",
       "      <td>good</td>\n",
       "    </tr>\n",
       "    <tr>\n",
       "      <th>3</th>\n",
       "      <td>29100</td>\n",
       "      <td>0.29</td>\n",
       "      <td>410000</td>\n",
       "      <td>18000</td>\n",
       "      <td>5063400</td>\n",
       "      <td>low</td>\n",
       "      <td>good</td>\n",
       "    </tr>\n",
       "    <tr>\n",
       "      <th>4</th>\n",
       "      <td>32000</td>\n",
       "      <td>0.00</td>\n",
       "      <td>350000</td>\n",
       "      <td>15000</td>\n",
       "      <td>1024000</td>\n",
       "      <td>low</td>\n",
       "      <td>good</td>\n",
       "    </tr>\n",
       "    <tr>\n",
       "      <th>...</th>\n",
       "      <td>...</td>\n",
       "      <td>...</td>\n",
       "      <td>...</td>\n",
       "      <td>...</td>\n",
       "      <td>...</td>\n",
       "      <td>...</td>\n",
       "      <td>...</td>\n",
       "    </tr>\n",
       "    <tr>\n",
       "      <th>95</th>\n",
       "      <td>75000</td>\n",
       "      <td>0.00</td>\n",
       "      <td>120000</td>\n",
       "      <td>1090000</td>\n",
       "      <td>8550000</td>\n",
       "      <td>low</td>\n",
       "      <td>good</td>\n",
       "    </tr>\n",
       "    <tr>\n",
       "      <th>96</th>\n",
       "      <td>22500</td>\n",
       "      <td>0.10</td>\n",
       "      <td>120000</td>\n",
       "      <td>1090000</td>\n",
       "      <td>11250000</td>\n",
       "      <td>low</td>\n",
       "      <td>good</td>\n",
       "    </tr>\n",
       "    <tr>\n",
       "      <th>97</th>\n",
       "      <td>166000</td>\n",
       "      <td>0.00</td>\n",
       "      <td>120000</td>\n",
       "      <td>60000</td>\n",
       "      <td>11454000</td>\n",
       "      <td>low</td>\n",
       "      <td>good</td>\n",
       "    </tr>\n",
       "    <tr>\n",
       "      <th>98</th>\n",
       "      <td>27000</td>\n",
       "      <td>0.10</td>\n",
       "      <td>120000</td>\n",
       "      <td>1090000</td>\n",
       "      <td>17199000</td>\n",
       "      <td>low</td>\n",
       "      <td>good</td>\n",
       "    </tr>\n",
       "    <tr>\n",
       "      <th>99</th>\n",
       "      <td>51060</td>\n",
       "      <td>0.26</td>\n",
       "      <td>120000</td>\n",
       "      <td>1090000</td>\n",
       "      <td>22772760</td>\n",
       "      <td>low</td>\n",
       "      <td>good</td>\n",
       "    </tr>\n",
       "  </tbody>\n",
       "</table>\n",
       "<p>100 rows × 7 columns</p>\n",
       "</div>"
      ],
      "text/plain": [
       "    product_price  discount  viewer    likes     sales discount_category  \\\n",
       "0           11700      0.29  650000   180000     11700               low   \n",
       "1           17400      0.44  650000   180000     87000               low   \n",
       "2           14000      0.47  650000   180000   8540000               low   \n",
       "3           29100      0.29  410000    18000   5063400               low   \n",
       "4           32000      0.00  350000    15000   1024000               low   \n",
       "..            ...       ...     ...      ...       ...               ...   \n",
       "95          75000      0.00  120000  1090000   8550000               low   \n",
       "96          22500      0.10  120000  1090000  11250000               low   \n",
       "97         166000      0.00  120000    60000  11454000               low   \n",
       "98          27000      0.10  120000  1090000  17199000               low   \n",
       "99          51060      0.26  120000  1090000  22772760               low   \n",
       "\n",
       "   sales_category  \n",
       "0             bad  \n",
       "1             bad  \n",
       "2            good  \n",
       "3            good  \n",
       "4            good  \n",
       "..            ...  \n",
       "95           good  \n",
       "96           good  \n",
       "97           good  \n",
       "98           good  \n",
       "99           good  \n",
       "\n",
       "[100 rows x 7 columns]"
      ]
     },
     "execution_count": 16,
     "metadata": {},
     "output_type": "execute_result"
    }
   ],
   "source": [
    "# print first 100 rows\n",
    "data.head(100)"
   ]
  },
  {
   "cell_type": "code",
   "execution_count": 16,
   "metadata": {},
   "outputs": [],
   "source": [
    "import pandas as pd\n",
    "import numpy as np\n",
    "import matplotlib.pyplot as plt\n",
    "from sklearn.linear_model import LogisticRegression\n",
    "from sklearn.model_selection import train_test_split\n",
    "from sklearn.metrics import classification_report, confusion_matrix, accuracy_score\n",
    "from sklearn.preprocessing import LabelEncoder\n",
    "\n",
    "\n",
    "import sklearn.svm as svm"
   ]
  },
  {
   "cell_type": "code",
   "execution_count": 17,
   "metadata": {},
   "outputs": [],
   "source": [
    "encoder = LabelEncoder()\n",
    "encoder.fit(data['discount_category'])\n",
    "data['y'] = encoder.transform(data['discount_category'])"
   ]
  },
  {
   "cell_type": "code",
   "execution_count": 19,
   "metadata": {},
   "outputs": [],
   "source": [
    "y = data['y']\n",
    "x = data[['discount', 'likes']]"
   ]
  },
  {
   "cell_type": "code",
   "execution_count": 20,
   "metadata": {},
   "outputs": [],
   "source": [
    "x_train, x_test, y_train, y_test = train_test_split(x, y, test_size=0.3, random_state=42)"
   ]
  },
  {
   "cell_type": "code",
   "execution_count": 21,
   "metadata": {},
   "outputs": [
    {
     "name": "stdout",
     "output_type": "stream",
     "text": [
      "(2032, 2)\n",
      "(2032,)\n"
     ]
    }
   ],
   "source": [
    "print(x_train.shape)\n",
    "print(y_train.shape)"
   ]
  },
  {
   "cell_type": "code",
   "execution_count": null,
   "metadata": {},
   "outputs": [],
   "source": [
    "# Build svm model\n",
    "svm_model = svm.SVC(kernel='linear')\n",
    "svm_model.fit(x_train, y_train)"
   ]
  },
  {
   "cell_type": "code",
   "execution_count": null,
   "metadata": {},
   "outputs": [],
   "source": [
    "# predication based on the test data set\n",
    "y_pred = svm_model.predict(x_test)\n",
    "\n",
    "print(classification_report(y_test, y_pred))\n",
    "print(confusion_matrix(y_test, y_pred))\n",
    "print(accuracy_score(y_test, y_pred))\n"
   ]
  },
  {
   "cell_type": "code",
   "execution_count": null,
   "metadata": {},
   "outputs": [],
   "source": [
    "import shap\n",
    "explain = shap.Explainer(svm_model, x)\n",
    "shap_values = explain.shap_values(x)"
   ]
  },
  {
   "cell_type": "code",
   "execution_count": null,
   "metadata": {},
   "outputs": [],
   "source": [
    "# shap.summary..."
   ]
  }
 ],
 "metadata": {
  "kernelspec": {
   "display_name": "venv",
   "language": "python",
   "name": "python3"
  },
  "language_info": {
   "codemirror_mode": {
    "name": "ipython",
    "version": 3
   },
   "file_extension": ".py",
   "mimetype": "text/x-python",
   "name": "python",
   "nbconvert_exporter": "python",
   "pygments_lexer": "ipython3",
   "version": "3.12.1"
  }
 },
 "nbformat": 4,
 "nbformat_minor": 2
}

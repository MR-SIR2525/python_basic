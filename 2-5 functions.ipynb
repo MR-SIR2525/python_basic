{
 "cells": [
  {
   "cell_type": "markdown",
   "metadata": {},
   "source": [
    "# Feb 5 in class stuff"
   ]
  },
  {
   "cell_type": "code",
   "execution_count": 3,
   "metadata": {},
   "outputs": [
    {
     "name": "stdout",
     "output_type": "stream",
     "text": [
      "50\n",
      "25\n",
      "76\n",
      "38\n",
      "19\n",
      "58\n",
      "29\n",
      "88\n",
      "44\n",
      "22\n",
      "11\n",
      "34\n",
      "17\n",
      "52\n",
      "26\n",
      "13\n",
      "40\n",
      "20\n",
      "10\n",
      "5\n",
      "16\n",
      "8\n",
      "4\n",
      "2\n",
      "1\n"
     ]
    }
   ],
   "source": [
    "def collatz(num):\n",
    "    if num % 2 == 0:\n",
    "        result = num // 2\n",
    "    else:\n",
    "        result = (3 * num) + 1\n",
    "    print(result)\n",
    "    return result\n",
    "\n",
    "try:\n",
    "    num = int(input('Enter a number: '))\n",
    "    while num != 1:\n",
    "        num = collatz(num)\n",
    "except ValueError:\n",
    "    print('Please enter an integer.')\n"
   ]
  },
  {
   "cell_type": "code",
   "execution_count": null,
   "metadata": {},
   "outputs": [],
   "source": []
  }
 ],
 "metadata": {
  "kernelspec": {
   "display_name": "Python 3",
   "language": "python",
   "name": "python3"
  },
  "language_info": {
   "codemirror_mode": {
    "name": "ipython",
    "version": 3
   },
   "file_extension": ".py",
   "mimetype": "text/x-python",
   "name": "python",
   "nbconvert_exporter": "python",
   "pygments_lexer": "ipython3",
   "version": "3.12.1"
  }
 },
 "nbformat": 4,
 "nbformat_minor": 2
}

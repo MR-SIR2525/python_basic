{
 "cells": [
  {
   "cell_type": "markdown",
   "metadata": {},
   "source": [
    "# Jan 29\n",
    "Loops"
   ]
  },
  {
   "cell_type": "code",
   "execution_count": null,
   "metadata": {},
   "outputs": [],
   "source": [
    "print(\"Pre while loop\\n\")\n",
    "\n",
    "while True:\n",
    "    print(\"who are you?\")\n",
    "    name = input()\n",
    "    if name != \"Joe\":\n",
    "        continue #go back to the top of the loop\n",
    "    print(\"Hello, Joe. What is the password? (It is a fish.)\")\n",
    "    password = input()\n",
    "    if password == \"swordfish\":\n",
    "        break\n",
    "    else:\n",
    "        print(\"Incorrect password.\")\n",
    "\n",
    "print(\"Access granted.\")"
   ]
  },
  {
   "cell_type": "code",
   "execution_count": null,
   "metadata": {},
   "outputs": [],
   "source": [
    "for i in range(10):\n",
    "    if i == 5:\n",
    "        break\n",
    "    print(i)\n"
   ]
  },
  {
   "cell_type": "code",
   "execution_count": null,
   "metadata": {},
   "outputs": [],
   "source": [
    "# The loop doesn't print 16 because the range() function generates numbers up to\n",
    "# but not including the stop value (16 in this case).\n",
    "for i in range(12, 16):\n",
    "    print(i)"
   ]
  },
  {
   "cell_type": "code",
   "execution_count": null,
   "metadata": {},
   "outputs": [],
   "source": [
    "names = [\"John\", \"Bob\", \"Mosh\", \"Sarah\", \"Mary\"]\n",
    "for name in names:\n",
    "    print(name)"
   ]
  },
  {
   "cell_type": "code",
   "execution_count": null,
   "metadata": {},
   "outputs": [],
   "source": [
    "step = -2\n",
    "for i in range(20, 10, step):\n",
    "    print(i)"
   ]
  },
  {
   "cell_type": "code",
   "execution_count": null,
   "metadata": {},
   "outputs": [],
   "source": [
    "import pandas as pd\n",
    "df = pd.read_csv(\"people.csv\")\n",
    "df\n",
    "\n",
    "for index, row in df.iterrows():\n",
    "    print(row[\"name\"])"
   ]
  },
  {
   "cell_type": "markdown",
   "metadata": {},
   "source": [
    "## Class practice thing"
   ]
  },
  {
   "cell_type": "code",
   "execution_count": 1,
   "metadata": {},
   "outputs": [],
   "source": [
    "import random"
   ]
  },
  {
   "cell_type": "code",
   "execution_count": 3,
   "metadata": {},
   "outputs": [
    {
     "name": "stdout",
     "output_type": "stream",
     "text": [
      "I'm thinking of a number between 1 and 40.\n",
      "Your guess is too low.\n",
      "Your guess is too high.\n",
      "Your guess is too high.\n",
      "Your guess is too low.\n",
      "Sorry, you didn't guess my number. It was 14.\n"
     ]
    }
   ],
   "source": [
    "a, b = 1, 40\n",
    "num = random.randint(a, b)\n",
    "allowed_guesses = 4\n",
    "\n",
    "print(\"I'm thinking of a number between \" + str(a) + \" and \" + str(b) + \".\")\n",
    "\n",
    "for count in range(allowed_guesses):\n",
    "    guess = int(input(\"Take a guess: \"))\n",
    "\n",
    "    if guess == num:\n",
    "        print(\"Good job, you guessed my number in \" + str(count) + \" guesses!\")\n",
    "        break\n",
    "    elif guess < num:\n",
    "        print(\"Your guess is too low.\")\n",
    "    elif guess > num:\n",
    "        print(\"Your guess is too high.\")\n",
    "    else:\n",
    "        break\n",
    "        \n",
    "else:\n",
    "    print(\"Sorry, you didn't guess my number. It was \" + str(num) + \".\")\n",
    "\n"
   ]
  },
  {
   "cell_type": "code",
   "execution_count": 7,
   "metadata": {},
   "outputs": [],
   "source": [
    "# Rock, Paper, Scissors variables\n",
    "wins = 0\n",
    "losses = 0\n",
    "ties = 0"
   ]
  },
  {
   "cell_type": "code",
   "execution_count": 8,
   "metadata": {},
   "outputs": [
    {
     "name": "stdout",
     "output_type": "stream",
     "text": [
      "ROCK, PAPER, SCISSORS\n",
      "Enter your move: (r)ock (p)aper (s)cissors or (q)uit\n",
      "ROCK versus...\n",
      "ROCK\n",
      "You lose!\n",
      "Enter your move: (r)ock (p)aper (s)cissors or (q)uit\n",
      "PAPER versus...\n",
      "ROCK\n",
      "You win!\n",
      "Enter your move: (r)ock (p)aper (s)cissors or (q)uit\n",
      "That's not a valid play. Check your spelling!\n",
      "Enter your move: (r)ock (p)aper (s)cissors or (q)uit\n",
      "SCISSORS versus...\n",
      "SCISSORS\n",
      "You lose!\n",
      "Enter your move: (r)ock (p)aper (s)cissors or (q)uit\n",
      "That's not a valid play. Check your spelling!\n",
      "Enter your move: (r)ock (p)aper (s)cissors or (q)uit\n",
      "That's not a valid play. Check your spelling!\n",
      "Enter your move: (r)ock (p)aper (s)cissors or (q)uit\n"
     ]
    }
   ],
   "source": [
    "print(\"ROCK, PAPER, SCISSORS\")\n",
    "\n",
    "while True:\n",
    "    print(\"Enter your move: (r)ock (p)aper (s)cissors or (q)uit\")\n",
    "    player_move = input()\n",
    "    if player_move == \"q\":\n",
    "        break\n",
    "    if player_move == \"r\":\n",
    "        print(\"ROCK versus...\")\n",
    "    elif player_move == \"p\":\n",
    "        print(\"PAPER versus...\")\n",
    "    elif player_move == \"s\":\n",
    "        print(\"SCISSORS versus...\")\n",
    "    else:\n",
    "        print(\"That's not a valid play. Check your spelling!\")\n",
    "        continue\n",
    "    computer_move = random.randint(1, 3)\n",
    "    if computer_move == 1:\n",
    "        print(\"ROCK\")\n",
    "    elif computer_move == 2:\n",
    "        print(\"PAPER\")\n",
    "    else:\n",
    "        print(\"SCISSORS\")\n",
    "    if player_move == \"r\" and computer_move == 3:\n",
    "        print(\"You win!\")\n",
    "        wins = wins + 1  \n",
    "    elif player_move == \"p\" and computer_move == 1:\n",
    "        print(\"You win!\")\n",
    "        wins = wins + 1\n",
    "    elif player_move == \"s\" and computer_move == 2:\n",
    "        print(\"You win!\")\n",
    "        wins = wins + 1\n",
    "    elif player_move == computer_move:\n",
    "        print(\"It's a tie!\")\n",
    "        ties = ties + 1\n",
    "    else:\n",
    "        print(\"You lose!\")\n",
    "        losses = losses + 1\n",
    "\n",
    "print(\"You won \" + str(wins) + \" times.\")\n",
    "print(\"You lost \" + str(losses) + \" times.\")\n",
    "print(\"You tied \" + str(ties) + \" times.\")\n"
   ]
  }
 ],
 "metadata": {
  "kernelspec": {
   "display_name": "Python 3",
   "language": "python",
   "name": "python3"
  },
  "language_info": {
   "codemirror_mode": {
    "name": "ipython",
    "version": 3
   },
   "file_extension": ".py",
   "mimetype": "text/x-python",
   "name": "python",
   "nbconvert_exporter": "python",
   "pygments_lexer": "ipython3",
   "version": "3.12.1"
  }
 },
 "nbformat": 4,
 "nbformat_minor": 2
}
